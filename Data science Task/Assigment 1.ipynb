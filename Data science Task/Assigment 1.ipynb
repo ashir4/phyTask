{
 "cells": [
  {
   "cell_type": "markdown",
   "id": "44d3aea2",
   "metadata": {},
   "source": [
    "# Task 1\n",
    "Write a program to iterate the first 10 numbers, and in each iteration, print the sum of\n",
    "the current and previous number.\n"
   ]
  },
  {
   "cell_type": "code",
   "execution_count": 2,
   "id": "8ba34f11",
   "metadata": {},
   "outputs": [
    {
     "name": "stdout",
     "output_type": "stream",
     "text": [
      "0\n",
      "1\n",
      "3\n",
      "5\n",
      "7\n",
      "9\n",
      "11\n",
      "13\n",
      "15\n",
      "17\n"
     ]
    }
   ],
   "source": [
    "# Iterate for the first 10 numbers Calculate the sum of the current and previous number\n",
    "for i in range(10):\n",
    "    result = i + (i - 1) if i > 0 else i\n",
    "    print(result)"
   ]
  },
  {
   "cell_type": "markdown",
   "id": "cc28f059",
   "metadata": {},
   "source": [
    "# Task 2\n",
    "2. Print the following pattern\n",
    "\n",
    "1\n",
    "2 2\n",
    "3 3 3\n",
    "4 4 4 4\n",
    "5 5 5 5 5"
   ]
  },
  {
   "cell_type": "code",
   "execution_count": 6,
   "id": "c82e4878",
   "metadata": {},
   "outputs": [
    {
     "name": "stdout",
     "output_type": "stream",
     "text": [
      "1 \n",
      "2 2 \n",
      "3 3 3 \n",
      "4 4 4 4 \n",
      "5 5 5 5 5 \n"
     ]
    }
   ],
   "source": [
    "# Define the number of rows for the pattern\n",
    "num_rows = 5\n",
    "\n",
    "# Iterate through each row\n",
    "for i in range(1, num_rows + 1):\n",
    "    # Print the repeating number for the current row\n",
    "    print((str(i) + ' ') * i)\n",
    "\n",
    "    \n"
   ]
  },
  {
   "cell_type": "markdown",
   "id": "8384016b",
   "metadata": {},
   "source": [
    "# Task 3\n",
    "numbers = [12, 75, 150, 180, 145, 525, 50]\n",
    "Write a program to display only those numbers from a list that satisfy the following\n",
    "conditions\n",
    "\n",
    "i. The number must be divisible by five\n",
    "ii. If the number is greater than 150, then skip it and move to the next number\n",
    "iii. If the number is greater than 500, then stop the loop"
   ]
  },
  {
   "cell_type": "code",
   "execution_count": 12,
   "id": "ccbc6fee",
   "metadata": {},
   "outputs": [
    {
     "name": "stdout",
     "output_type": "stream",
     "text": [
      "75\n",
      "150\n",
      "145\n",
      "50\n"
     ]
    }
   ],
   "source": [
    "numbers = [12, 75, 150, 180, 145, 525, 50]\n",
    "for num in numbers:\n",
    "    if num % 5==0:\n",
    "        if num > 150:\n",
    "            continue\n",
    "        if num > 500:\n",
    "                break\n",
    "        print(num)\n",
    "            \n",
    "                    "
   ]
  },
  {
   "cell_type": "markdown",
   "id": "d9eb145f",
   "metadata": {},
   "source": [
    "# Task 4\n",
    "Display Fibonacci series up to 10 terms\n",
    "The Fibonacci Sequence is a series of numbers. The next number is found by adding\n",
    "up the two numbers before it. The first two numbers are 0 and 1.\n",
    "For example, 0, 1, 1, 2, 3, 5, 8, 13, 21. The next number in this series above is\n",
    "13+21 = 34."
   ]
  },
  {
   "cell_type": "code",
   "execution_count": 15,
   "id": "a7275322",
   "metadata": {},
   "outputs": [
    {
     "name": "stdout",
     "output_type": "stream",
     "text": [
      "0\n",
      "1\n",
      "1\n",
      "2\n",
      "3\n",
      "5\n",
      "8\n",
      "13\n",
      "21\n",
      "34\n"
     ]
    }
   ],
   "source": [
    "num_term=10\n",
    "first_term=0\n",
    "sec_term=1\n",
    "for i in range(num_term):\n",
    "    print(first_term)\n",
    "    first_term , sec_term = sec_term , first_term+sec_term"
   ]
  },
  {
   "cell_type": "markdown",
   "id": "d66023e6",
   "metadata": {},
   "source": [
    "# Task 5\n",
    "Write a program to use the loop to find the factorial of a given number.\n",
    "The factorial (symbol: !) means to multiply all whole numbers from the chosen number\n",
    "down to 1.\n",
    "For example: calculate the factorial of 5\n",
    "5! = 5 × 4 × 3 × 2 × 1 = 120"
   ]
  },
  {
   "cell_type": "code",
   "execution_count": 1,
   "id": "7d2cd5d9",
   "metadata": {},
   "outputs": [
    {
     "name": "stdout",
     "output_type": "stream",
     "text": [
      "Enter Number to find factorial: 5\n",
      "The factorial of 5 is: 120\n"
     ]
    }
   ],
   "source": [
    "def factorial(number):\n",
    "    result = 1\n",
    "    for i in range(1, number + 1):\n",
    "        result *= i\n",
    "    return result\n",
    "\n",
    "number =int(input(\"Enter Number to find factorial: \"))\n",
    "result = factorial(number)\n",
    "print(f\"The factorial of {number} is: {result}\")\n"
   ]
  },
  {
   "cell_type": "markdown",
   "id": "41a7cd8f",
   "metadata": {},
   "source": [
    "# Task 6\n",
    "Write a program to iterate a given list and count the occurrence of each element and\n",
    "print to show the count of each element.\n",
    "sample_list = [11, 45, 8, 11, 23, 45, 23, 45, 89]\n",
    "Expected Output:\n",
    "Printing count of each item 11: 2, 45: 3, 8: 1, 23: 2, 89: 1"
   ]
  },
  {
   "cell_type": "code",
   "execution_count": 3,
   "id": "41aa5abd",
   "metadata": {},
   "outputs": [
    {
     "name": "stdout",
     "output_type": "stream",
     "text": [
      "Printing count of each item:\n",
      "11: 2\n",
      "45: 3\n",
      "8: 1\n",
      "23: 2\n",
      "89: 1\n"
     ]
    }
   ],
   "source": [
    "given_list = [11, 45, 8, 11, 23, 45, 23, 45, 89]\n",
    "# an empty dictionary to store counts\n",
    "element_count = {}\n",
    "\n",
    "for item in given_list:\n",
    "    # If the item is already in the dictionary, increment the count\n",
    "    if item in element_count:\n",
    "        element_count[item] += 1\n",
    "    # If the item is not in the dictionary, add it with count 1\n",
    "    else:\n",
    "        element_count[item] = 1\n",
    "\n",
    "print(\"Printing count of each item:\")\n",
    "for item, count in element_count.items():\n",
    "    print(f\"{item}: {count}\")"
   ]
  },
  {
   "cell_type": "markdown",
   "id": "f7350617",
   "metadata": {},
   "source": [
    "# Task 7\n",
    "Given two lists, l1 and l2, write a program to create a third list l3 by picking an\n",
    "odd-index element from the list l1 and even index elements from the list l2.\n",
    "Given:\n",
    "l1 = [3, 6, 9, 12, 15, 18, 21]\n",
    "l2 = [4, 8, 12, 16, 20, 24, 28]"
   ]
  },
  {
   "cell_type": "code",
   "execution_count": 12,
   "id": "aefe4f32",
   "metadata": {},
   "outputs": [
    {
     "name": "stdout",
     "output_type": "stream",
     "text": [
      "[6, 12, 18, 4, 12, 20, 28]\n"
     ]
    }
   ],
   "source": [
    "L1=[3,6,9,12,15,18,21]\n",
    "L2=[4,8,12,16,20,24,28]\n",
    "L3=[]\n",
    "\n",
    "L3=L1[1::2] + L2[::2]\n",
    "\n",
    "print(L3)"
   ]
  },
  {
   "cell_type": "code",
   "execution_count": null,
   "id": "435551bc",
   "metadata": {},
   "outputs": [],
   "source": []
  }
 ],
 "metadata": {
  "kernelspec": {
   "display_name": "Python 3 (ipykernel)",
   "language": "python",
   "name": "python3"
  },
  "language_info": {
   "codemirror_mode": {
    "name": "ipython",
    "version": 3
   },
   "file_extension": ".py",
   "mimetype": "text/x-python",
   "name": "python",
   "nbconvert_exporter": "python",
   "pygments_lexer": "ipython3",
   "version": "3.11.5"
  }
 },
 "nbformat": 4,
 "nbformat_minor": 5
}
